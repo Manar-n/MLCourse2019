{
  "nbformat": 4,
  "nbformat_minor": 0,
  "metadata": {
    "colab": {
      "name": "Portfolio (1) Tuesday",
      "provenance": [],
      "collapsed_sections": [],
      "include_colab_link": true
    },
    "kernelspec": {
      "name": "python3",
      "display_name": "Python 3"
    }
  },
  "cells": [
    {
      "cell_type": "markdown",
      "metadata": {
        "id": "view-in-github",
        "colab_type": "text"
      },
      "source": [
        "<a href=\"https://colab.research.google.com/github/Manar-n/MLCourse2019/blob/master/Portfolio_(1)_Tuesday.ipynb\" target=\"_parent\"><img src=\"https://colab.research.google.com/assets/colab-badge.svg\" alt=\"Open In Colab\"/></a>"
      ]
    },
    {
      "cell_type": "markdown",
      "metadata": {
        "id": "hg9oOHcxo6N3",
        "colab_type": "text"
      },
      "source": [
        "# Portfolio Tuesday\n",
        "\n",
        "We will be using the turnover dataset \n",
        "\n",
        "https://github.com/CALDISS-AAU/sdsphd19_coursematerials/raw/master/data/turnover.csv'\n",
        "\n",
        "for this portfolio to do 3 things:\n",
        "\n",
        "## Unsupervised ML\n",
        "\n",
        "- Prepare the dataset (select the columns that are useful)\n",
        "- Preprocess (Scale)\n",
        "- Reduce dimensionality and perhaps make a scatterplot of the data\n",
        "- Examine the reduced data\n",
        "\n",
        "## Supervised ML\n",
        "\n",
        "- Preprocess the data\n",
        "- Try to predict \"churn\" using a simple model (Logistic Regression)\n",
        "- Try a more advanced model (e.g. Random Forest)\n",
        "- Evaluate your model\n",
        "- Predict \"satisfaction\" (!!! This is a regression model)\n",
        "- Evaluate the regression model\n",
        "\n"
      ]
    },
    {
      "cell_type": "code",
      "metadata": {
        "id": "wyxTivkiRfqc",
        "colab_type": "code",
        "colab": {}
      },
      "source": [
        "import pandas as pd"
      ],
      "execution_count": 0,
      "outputs": []
    },
    {
      "cell_type": "code",
      "metadata": {
        "id": "5i5pqja9SHfG",
        "colab_type": "code",
        "colab": {}
      },
      "source": [
        "turnover = pd.read_csv('https://github.com/CALDISS-AAU/sdsphd19_coursematerials/raw/master/data/turnover.csv')"
      ],
      "execution_count": 0,
      "outputs": []
    },
    {
      "cell_type": "code",
      "metadata": {
        "colab_type": "code",
        "outputId": "7291dcab-12c6-45b6-ce84-4856d4a0da74",
        "id": "fscLbGJZq84g",
        "colab": {
          "base_uri": "https://localhost:8080/",
          "height": 195
        }
      },
      "source": [
        "turnover.head()"
      ],
      "execution_count": 0,
      "outputs": [
        {
          "output_type": "execute_result",
          "data": {
            "text/html": [
              "<div>\n",
              "<style scoped>\n",
              "    .dataframe tbody tr th:only-of-type {\n",
              "        vertical-align: middle;\n",
              "    }\n",
              "\n",
              "    .dataframe tbody tr th {\n",
              "        vertical-align: top;\n",
              "    }\n",
              "\n",
              "    .dataframe thead th {\n",
              "        text-align: right;\n",
              "    }\n",
              "</style>\n",
              "<table border=\"1\" class=\"dataframe\">\n",
              "  <thead>\n",
              "    <tr style=\"text-align: right;\">\n",
              "      <th></th>\n",
              "      <th>satisfaction</th>\n",
              "      <th>evaluation</th>\n",
              "      <th>number_of_projects</th>\n",
              "      <th>average_montly_hours</th>\n",
              "      <th>time_spend_company</th>\n",
              "      <th>work_accident</th>\n",
              "      <th>churn</th>\n",
              "      <th>promotion</th>\n",
              "      <th>department</th>\n",
              "      <th>salary</th>\n",
              "    </tr>\n",
              "  </thead>\n",
              "  <tbody>\n",
              "    <tr>\n",
              "      <th>0</th>\n",
              "      <td>0.38</td>\n",
              "      <td>0.53</td>\n",
              "      <td>2</td>\n",
              "      <td>157</td>\n",
              "      <td>3</td>\n",
              "      <td>0</td>\n",
              "      <td>1</td>\n",
              "      <td>0</td>\n",
              "      <td>sales</td>\n",
              "      <td>low</td>\n",
              "    </tr>\n",
              "    <tr>\n",
              "      <th>1</th>\n",
              "      <td>0.80</td>\n",
              "      <td>0.86</td>\n",
              "      <td>5</td>\n",
              "      <td>262</td>\n",
              "      <td>6</td>\n",
              "      <td>0</td>\n",
              "      <td>1</td>\n",
              "      <td>0</td>\n",
              "      <td>sales</td>\n",
              "      <td>medium</td>\n",
              "    </tr>\n",
              "    <tr>\n",
              "      <th>2</th>\n",
              "      <td>0.11</td>\n",
              "      <td>0.88</td>\n",
              "      <td>7</td>\n",
              "      <td>272</td>\n",
              "      <td>4</td>\n",
              "      <td>0</td>\n",
              "      <td>1</td>\n",
              "      <td>0</td>\n",
              "      <td>sales</td>\n",
              "      <td>medium</td>\n",
              "    </tr>\n",
              "    <tr>\n",
              "      <th>3</th>\n",
              "      <td>0.72</td>\n",
              "      <td>0.87</td>\n",
              "      <td>5</td>\n",
              "      <td>223</td>\n",
              "      <td>5</td>\n",
              "      <td>0</td>\n",
              "      <td>1</td>\n",
              "      <td>0</td>\n",
              "      <td>sales</td>\n",
              "      <td>low</td>\n",
              "    </tr>\n",
              "    <tr>\n",
              "      <th>4</th>\n",
              "      <td>0.37</td>\n",
              "      <td>0.52</td>\n",
              "      <td>2</td>\n",
              "      <td>159</td>\n",
              "      <td>3</td>\n",
              "      <td>0</td>\n",
              "      <td>1</td>\n",
              "      <td>0</td>\n",
              "      <td>sales</td>\n",
              "      <td>low</td>\n",
              "    </tr>\n",
              "  </tbody>\n",
              "</table>\n",
              "</div>"
            ],
            "text/plain": [
              "   satisfaction  evaluation  number_of_projects  ...  promotion  department  salary\n",
              "0          0.38        0.53                   2  ...          0       sales     low\n",
              "1          0.80        0.86                   5  ...          0       sales  medium\n",
              "2          0.11        0.88                   7  ...          0       sales  medium\n",
              "3          0.72        0.87                   5  ...          0       sales     low\n",
              "4          0.37        0.52                   2  ...          0       sales     low\n",
              "\n",
              "[5 rows x 10 columns]"
            ]
          },
          "metadata": {
            "tags": []
          },
          "execution_count": 3
        }
      ]
    },
    {
      "cell_type": "code",
      "metadata": {
        "id": "lYI0hNGrFq1L",
        "colab_type": "code",
        "outputId": "bb8cb9ed-f95d-422d-add2-cf1b084ac1e6",
        "colab": {
          "base_uri": "https://localhost:8080/",
          "height": 50
        }
      },
      "source": [
        "!pip install -qq -U matplotlib\n",
        "import pandas as pd #Pandas handles tabular data\n",
        "pd.set_option('display.float_format', lambda x: '%.3f' % x) # turn off scientific notation and too much decimal blah\n",
        "import matplotlib.pyplot as plt # standard plotting library\n",
        "import numpy as np #Numpy for linear algebra & co\n",
        "import seaborn as sns # For pretty dataviz\n",
        "sns.set_style(\"darkgrid\") "
      ],
      "execution_count": 0,
      "outputs": [
        {
          "output_type": "stream",
          "text": [
            "\u001b[K     |████████████████████████████████| 13.1MB 185kB/s \n",
            "\u001b[31mERROR: albumentations 0.1.12 has requirement imgaug<0.2.7,>=0.2.5, but you'll have imgaug 0.2.9 which is incompatible.\u001b[0m\n",
            "\u001b[?25h"
          ],
          "name": "stdout"
        }
      ]
    },
    {
      "cell_type": "code",
      "metadata": {
        "id": "m4ynQrUDFruG",
        "colab_type": "code",
        "colab": {}
      },
      "source": [
        "#Prepare the dataset (select the columns that are useful)\n",
        "#Preprocess (Scale)\n",
        "#Reduce dimensionality and perhaps make a scatterplot of the data\n",
        "#Examine the reduced data"
      ],
      "execution_count": 0,
      "outputs": []
    },
    {
      "cell_type": "code",
      "metadata": {
        "id": "OZi8DwUWFrwZ",
        "colab_type": "code",
        "colab": {}
      },
      "source": [
        "#turnover = turnover.drop(['churn'], axis = 1)"
      ],
      "execution_count": 0,
      "outputs": []
    },
    {
      "cell_type": "code",
      "metadata": {
        "id": "jZDrrvLjFr1D",
        "colab_type": "code",
        "outputId": "7a631912-fe83-4a17-f142-7e9d5b59a265",
        "colab": {
          "base_uri": "https://localhost:8080/",
          "height": 402
        }
      },
      "source": [
        "from sklearn.preprocessing import LabelEncoder\n",
        "encoder = LabelEncoder()\n",
        "turnover['salary_enconded'] = encoder.fit_transform(turnover.salary)\n",
        "turnover"
      ],
      "execution_count": 0,
      "outputs": [
        {
          "output_type": "execute_result",
          "data": {
            "text/html": [
              "<div>\n",
              "<style scoped>\n",
              "    .dataframe tbody tr th:only-of-type {\n",
              "        vertical-align: middle;\n",
              "    }\n",
              "\n",
              "    .dataframe tbody tr th {\n",
              "        vertical-align: top;\n",
              "    }\n",
              "\n",
              "    .dataframe thead th {\n",
              "        text-align: right;\n",
              "    }\n",
              "</style>\n",
              "<table border=\"1\" class=\"dataframe\">\n",
              "  <thead>\n",
              "    <tr style=\"text-align: right;\">\n",
              "      <th></th>\n",
              "      <th>satisfaction</th>\n",
              "      <th>evaluation</th>\n",
              "      <th>number_of_projects</th>\n",
              "      <th>average_montly_hours</th>\n",
              "      <th>time_spend_company</th>\n",
              "      <th>work_accident</th>\n",
              "      <th>churn</th>\n",
              "      <th>promotion</th>\n",
              "      <th>department</th>\n",
              "      <th>salary</th>\n",
              "      <th>salary_enconded</th>\n",
              "    </tr>\n",
              "  </thead>\n",
              "  <tbody>\n",
              "    <tr>\n",
              "      <th>0</th>\n",
              "      <td>0.380</td>\n",
              "      <td>0.530</td>\n",
              "      <td>2</td>\n",
              "      <td>157</td>\n",
              "      <td>3</td>\n",
              "      <td>0</td>\n",
              "      <td>1</td>\n",
              "      <td>0</td>\n",
              "      <td>sales</td>\n",
              "      <td>low</td>\n",
              "      <td>1</td>\n",
              "    </tr>\n",
              "    <tr>\n",
              "      <th>1</th>\n",
              "      <td>0.800</td>\n",
              "      <td>0.860</td>\n",
              "      <td>5</td>\n",
              "      <td>262</td>\n",
              "      <td>6</td>\n",
              "      <td>0</td>\n",
              "      <td>1</td>\n",
              "      <td>0</td>\n",
              "      <td>sales</td>\n",
              "      <td>medium</td>\n",
              "      <td>2</td>\n",
              "    </tr>\n",
              "    <tr>\n",
              "      <th>2</th>\n",
              "      <td>0.110</td>\n",
              "      <td>0.880</td>\n",
              "      <td>7</td>\n",
              "      <td>272</td>\n",
              "      <td>4</td>\n",
              "      <td>0</td>\n",
              "      <td>1</td>\n",
              "      <td>0</td>\n",
              "      <td>sales</td>\n",
              "      <td>medium</td>\n",
              "      <td>2</td>\n",
              "    </tr>\n",
              "    <tr>\n",
              "      <th>3</th>\n",
              "      <td>0.720</td>\n",
              "      <td>0.870</td>\n",
              "      <td>5</td>\n",
              "      <td>223</td>\n",
              "      <td>5</td>\n",
              "      <td>0</td>\n",
              "      <td>1</td>\n",
              "      <td>0</td>\n",
              "      <td>sales</td>\n",
              "      <td>low</td>\n",
              "      <td>1</td>\n",
              "    </tr>\n",
              "    <tr>\n",
              "      <th>4</th>\n",
              "      <td>0.370</td>\n",
              "      <td>0.520</td>\n",
              "      <td>2</td>\n",
              "      <td>159</td>\n",
              "      <td>3</td>\n",
              "      <td>0</td>\n",
              "      <td>1</td>\n",
              "      <td>0</td>\n",
              "      <td>sales</td>\n",
              "      <td>low</td>\n",
              "      <td>1</td>\n",
              "    </tr>\n",
              "    <tr>\n",
              "      <th>...</th>\n",
              "      <td>...</td>\n",
              "      <td>...</td>\n",
              "      <td>...</td>\n",
              "      <td>...</td>\n",
              "      <td>...</td>\n",
              "      <td>...</td>\n",
              "      <td>...</td>\n",
              "      <td>...</td>\n",
              "      <td>...</td>\n",
              "      <td>...</td>\n",
              "      <td>...</td>\n",
              "    </tr>\n",
              "    <tr>\n",
              "      <th>14994</th>\n",
              "      <td>0.400</td>\n",
              "      <td>0.570</td>\n",
              "      <td>2</td>\n",
              "      <td>151</td>\n",
              "      <td>3</td>\n",
              "      <td>0</td>\n",
              "      <td>1</td>\n",
              "      <td>0</td>\n",
              "      <td>support</td>\n",
              "      <td>low</td>\n",
              "      <td>1</td>\n",
              "    </tr>\n",
              "    <tr>\n",
              "      <th>14995</th>\n",
              "      <td>0.370</td>\n",
              "      <td>0.480</td>\n",
              "      <td>2</td>\n",
              "      <td>160</td>\n",
              "      <td>3</td>\n",
              "      <td>0</td>\n",
              "      <td>1</td>\n",
              "      <td>0</td>\n",
              "      <td>support</td>\n",
              "      <td>low</td>\n",
              "      <td>1</td>\n",
              "    </tr>\n",
              "    <tr>\n",
              "      <th>14996</th>\n",
              "      <td>0.370</td>\n",
              "      <td>0.530</td>\n",
              "      <td>2</td>\n",
              "      <td>143</td>\n",
              "      <td>3</td>\n",
              "      <td>0</td>\n",
              "      <td>1</td>\n",
              "      <td>0</td>\n",
              "      <td>support</td>\n",
              "      <td>low</td>\n",
              "      <td>1</td>\n",
              "    </tr>\n",
              "    <tr>\n",
              "      <th>14997</th>\n",
              "      <td>0.110</td>\n",
              "      <td>0.960</td>\n",
              "      <td>6</td>\n",
              "      <td>280</td>\n",
              "      <td>4</td>\n",
              "      <td>0</td>\n",
              "      <td>1</td>\n",
              "      <td>0</td>\n",
              "      <td>support</td>\n",
              "      <td>low</td>\n",
              "      <td>1</td>\n",
              "    </tr>\n",
              "    <tr>\n",
              "      <th>14998</th>\n",
              "      <td>0.370</td>\n",
              "      <td>0.520</td>\n",
              "      <td>2</td>\n",
              "      <td>158</td>\n",
              "      <td>3</td>\n",
              "      <td>0</td>\n",
              "      <td>1</td>\n",
              "      <td>0</td>\n",
              "      <td>support</td>\n",
              "      <td>low</td>\n",
              "      <td>1</td>\n",
              "    </tr>\n",
              "  </tbody>\n",
              "</table>\n",
              "<p>14999 rows × 11 columns</p>\n",
              "</div>"
            ],
            "text/plain": [
              "       satisfaction  evaluation  ...  salary  salary_enconded\n",
              "0             0.380       0.530  ...     low                1\n",
              "1             0.800       0.860  ...  medium                2\n",
              "2             0.110       0.880  ...  medium                2\n",
              "3             0.720       0.870  ...     low                1\n",
              "4             0.370       0.520  ...     low                1\n",
              "...             ...         ...  ...     ...              ...\n",
              "14994         0.400       0.570  ...     low                1\n",
              "14995         0.370       0.480  ...     low                1\n",
              "14996         0.370       0.530  ...     low                1\n",
              "14997         0.110       0.960  ...     low                1\n",
              "14998         0.370       0.520  ...     low                1\n",
              "\n",
              "[14999 rows x 11 columns]"
            ]
          },
          "metadata": {
            "tags": []
          },
          "execution_count": 7
        }
      ]
    },
    {
      "cell_type": "code",
      "metadata": {
        "id": "HWMxCjFvFr3d",
        "colab_type": "code",
        "colab": {}
      },
      "source": [
        "turnover = turnover.drop(['salary'], axis = 1)"
      ],
      "execution_count": 0,
      "outputs": []
    },
    {
      "cell_type": "code",
      "metadata": {
        "id": "NwvIxE_MFr6B",
        "colab_type": "code",
        "outputId": "e3975c72-029c-4cc4-fa16-3a05dd7a3341",
        "colab": {
          "base_uri": "https://localhost:8080/",
          "height": 422
        }
      },
      "source": [
        "department_dummies = pd.get_dummies(turnover.department)\n",
        "pd.concat([turnover, department_dummies], axis = 1)"
      ],
      "execution_count": 0,
      "outputs": [
        {
          "output_type": "execute_result",
          "data": {
            "text/html": [
              "<div>\n",
              "<style scoped>\n",
              "    .dataframe tbody tr th:only-of-type {\n",
              "        vertical-align: middle;\n",
              "    }\n",
              "\n",
              "    .dataframe tbody tr th {\n",
              "        vertical-align: top;\n",
              "    }\n",
              "\n",
              "    .dataframe thead th {\n",
              "        text-align: right;\n",
              "    }\n",
              "</style>\n",
              "<table border=\"1\" class=\"dataframe\">\n",
              "  <thead>\n",
              "    <tr style=\"text-align: right;\">\n",
              "      <th></th>\n",
              "      <th>satisfaction</th>\n",
              "      <th>evaluation</th>\n",
              "      <th>number_of_projects</th>\n",
              "      <th>average_montly_hours</th>\n",
              "      <th>time_spend_company</th>\n",
              "      <th>work_accident</th>\n",
              "      <th>churn</th>\n",
              "      <th>promotion</th>\n",
              "      <th>department</th>\n",
              "      <th>salary_enconded</th>\n",
              "      <th>IT</th>\n",
              "      <th>RandD</th>\n",
              "      <th>accounting</th>\n",
              "      <th>hr</th>\n",
              "      <th>management</th>\n",
              "      <th>marketing</th>\n",
              "      <th>product_mng</th>\n",
              "      <th>sales</th>\n",
              "      <th>support</th>\n",
              "      <th>technical</th>\n",
              "    </tr>\n",
              "  </thead>\n",
              "  <tbody>\n",
              "    <tr>\n",
              "      <th>0</th>\n",
              "      <td>0.380</td>\n",
              "      <td>0.530</td>\n",
              "      <td>2</td>\n",
              "      <td>157</td>\n",
              "      <td>3</td>\n",
              "      <td>0</td>\n",
              "      <td>1</td>\n",
              "      <td>0</td>\n",
              "      <td>sales</td>\n",
              "      <td>1</td>\n",
              "      <td>0</td>\n",
              "      <td>0</td>\n",
              "      <td>0</td>\n",
              "      <td>0</td>\n",
              "      <td>0</td>\n",
              "      <td>0</td>\n",
              "      <td>0</td>\n",
              "      <td>1</td>\n",
              "      <td>0</td>\n",
              "      <td>0</td>\n",
              "    </tr>\n",
              "    <tr>\n",
              "      <th>1</th>\n",
              "      <td>0.800</td>\n",
              "      <td>0.860</td>\n",
              "      <td>5</td>\n",
              "      <td>262</td>\n",
              "      <td>6</td>\n",
              "      <td>0</td>\n",
              "      <td>1</td>\n",
              "      <td>0</td>\n",
              "      <td>sales</td>\n",
              "      <td>2</td>\n",
              "      <td>0</td>\n",
              "      <td>0</td>\n",
              "      <td>0</td>\n",
              "      <td>0</td>\n",
              "      <td>0</td>\n",
              "      <td>0</td>\n",
              "      <td>0</td>\n",
              "      <td>1</td>\n",
              "      <td>0</td>\n",
              "      <td>0</td>\n",
              "    </tr>\n",
              "    <tr>\n",
              "      <th>2</th>\n",
              "      <td>0.110</td>\n",
              "      <td>0.880</td>\n",
              "      <td>7</td>\n",
              "      <td>272</td>\n",
              "      <td>4</td>\n",
              "      <td>0</td>\n",
              "      <td>1</td>\n",
              "      <td>0</td>\n",
              "      <td>sales</td>\n",
              "      <td>2</td>\n",
              "      <td>0</td>\n",
              "      <td>0</td>\n",
              "      <td>0</td>\n",
              "      <td>0</td>\n",
              "      <td>0</td>\n",
              "      <td>0</td>\n",
              "      <td>0</td>\n",
              "      <td>1</td>\n",
              "      <td>0</td>\n",
              "      <td>0</td>\n",
              "    </tr>\n",
              "    <tr>\n",
              "      <th>3</th>\n",
              "      <td>0.720</td>\n",
              "      <td>0.870</td>\n",
              "      <td>5</td>\n",
              "      <td>223</td>\n",
              "      <td>5</td>\n",
              "      <td>0</td>\n",
              "      <td>1</td>\n",
              "      <td>0</td>\n",
              "      <td>sales</td>\n",
              "      <td>1</td>\n",
              "      <td>0</td>\n",
              "      <td>0</td>\n",
              "      <td>0</td>\n",
              "      <td>0</td>\n",
              "      <td>0</td>\n",
              "      <td>0</td>\n",
              "      <td>0</td>\n",
              "      <td>1</td>\n",
              "      <td>0</td>\n",
              "      <td>0</td>\n",
              "    </tr>\n",
              "    <tr>\n",
              "      <th>4</th>\n",
              "      <td>0.370</td>\n",
              "      <td>0.520</td>\n",
              "      <td>2</td>\n",
              "      <td>159</td>\n",
              "      <td>3</td>\n",
              "      <td>0</td>\n",
              "      <td>1</td>\n",
              "      <td>0</td>\n",
              "      <td>sales</td>\n",
              "      <td>1</td>\n",
              "      <td>0</td>\n",
              "      <td>0</td>\n",
              "      <td>0</td>\n",
              "      <td>0</td>\n",
              "      <td>0</td>\n",
              "      <td>0</td>\n",
              "      <td>0</td>\n",
              "      <td>1</td>\n",
              "      <td>0</td>\n",
              "      <td>0</td>\n",
              "    </tr>\n",
              "    <tr>\n",
              "      <th>...</th>\n",
              "      <td>...</td>\n",
              "      <td>...</td>\n",
              "      <td>...</td>\n",
              "      <td>...</td>\n",
              "      <td>...</td>\n",
              "      <td>...</td>\n",
              "      <td>...</td>\n",
              "      <td>...</td>\n",
              "      <td>...</td>\n",
              "      <td>...</td>\n",
              "      <td>...</td>\n",
              "      <td>...</td>\n",
              "      <td>...</td>\n",
              "      <td>...</td>\n",
              "      <td>...</td>\n",
              "      <td>...</td>\n",
              "      <td>...</td>\n",
              "      <td>...</td>\n",
              "      <td>...</td>\n",
              "      <td>...</td>\n",
              "    </tr>\n",
              "    <tr>\n",
              "      <th>14994</th>\n",
              "      <td>0.400</td>\n",
              "      <td>0.570</td>\n",
              "      <td>2</td>\n",
              "      <td>151</td>\n",
              "      <td>3</td>\n",
              "      <td>0</td>\n",
              "      <td>1</td>\n",
              "      <td>0</td>\n",
              "      <td>support</td>\n",
              "      <td>1</td>\n",
              "      <td>0</td>\n",
              "      <td>0</td>\n",
              "      <td>0</td>\n",
              "      <td>0</td>\n",
              "      <td>0</td>\n",
              "      <td>0</td>\n",
              "      <td>0</td>\n",
              "      <td>0</td>\n",
              "      <td>1</td>\n",
              "      <td>0</td>\n",
              "    </tr>\n",
              "    <tr>\n",
              "      <th>14995</th>\n",
              "      <td>0.370</td>\n",
              "      <td>0.480</td>\n",
              "      <td>2</td>\n",
              "      <td>160</td>\n",
              "      <td>3</td>\n",
              "      <td>0</td>\n",
              "      <td>1</td>\n",
              "      <td>0</td>\n",
              "      <td>support</td>\n",
              "      <td>1</td>\n",
              "      <td>0</td>\n",
              "      <td>0</td>\n",
              "      <td>0</td>\n",
              "      <td>0</td>\n",
              "      <td>0</td>\n",
              "      <td>0</td>\n",
              "      <td>0</td>\n",
              "      <td>0</td>\n",
              "      <td>1</td>\n",
              "      <td>0</td>\n",
              "    </tr>\n",
              "    <tr>\n",
              "      <th>14996</th>\n",
              "      <td>0.370</td>\n",
              "      <td>0.530</td>\n",
              "      <td>2</td>\n",
              "      <td>143</td>\n",
              "      <td>3</td>\n",
              "      <td>0</td>\n",
              "      <td>1</td>\n",
              "      <td>0</td>\n",
              "      <td>support</td>\n",
              "      <td>1</td>\n",
              "      <td>0</td>\n",
              "      <td>0</td>\n",
              "      <td>0</td>\n",
              "      <td>0</td>\n",
              "      <td>0</td>\n",
              "      <td>0</td>\n",
              "      <td>0</td>\n",
              "      <td>0</td>\n",
              "      <td>1</td>\n",
              "      <td>0</td>\n",
              "    </tr>\n",
              "    <tr>\n",
              "      <th>14997</th>\n",
              "      <td>0.110</td>\n",
              "      <td>0.960</td>\n",
              "      <td>6</td>\n",
              "      <td>280</td>\n",
              "      <td>4</td>\n",
              "      <td>0</td>\n",
              "      <td>1</td>\n",
              "      <td>0</td>\n",
              "      <td>support</td>\n",
              "      <td>1</td>\n",
              "      <td>0</td>\n",
              "      <td>0</td>\n",
              "      <td>0</td>\n",
              "      <td>0</td>\n",
              "      <td>0</td>\n",
              "      <td>0</td>\n",
              "      <td>0</td>\n",
              "      <td>0</td>\n",
              "      <td>1</td>\n",
              "      <td>0</td>\n",
              "    </tr>\n",
              "    <tr>\n",
              "      <th>14998</th>\n",
              "      <td>0.370</td>\n",
              "      <td>0.520</td>\n",
              "      <td>2</td>\n",
              "      <td>158</td>\n",
              "      <td>3</td>\n",
              "      <td>0</td>\n",
              "      <td>1</td>\n",
              "      <td>0</td>\n",
              "      <td>support</td>\n",
              "      <td>1</td>\n",
              "      <td>0</td>\n",
              "      <td>0</td>\n",
              "      <td>0</td>\n",
              "      <td>0</td>\n",
              "      <td>0</td>\n",
              "      <td>0</td>\n",
              "      <td>0</td>\n",
              "      <td>0</td>\n",
              "      <td>1</td>\n",
              "      <td>0</td>\n",
              "    </tr>\n",
              "  </tbody>\n",
              "</table>\n",
              "<p>14999 rows × 20 columns</p>\n",
              "</div>"
            ],
            "text/plain": [
              "       satisfaction  evaluation  number_of_projects  ...  sales  support  technical\n",
              "0             0.380       0.530                   2  ...      1        0          0\n",
              "1             0.800       0.860                   5  ...      1        0          0\n",
              "2             0.110       0.880                   7  ...      1        0          0\n",
              "3             0.720       0.870                   5  ...      1        0          0\n",
              "4             0.370       0.520                   2  ...      1        0          0\n",
              "...             ...         ...                 ...  ...    ...      ...        ...\n",
              "14994         0.400       0.570                   2  ...      0        1          0\n",
              "14995         0.370       0.480                   2  ...      0        1          0\n",
              "14996         0.370       0.530                   2  ...      0        1          0\n",
              "14997         0.110       0.960                   6  ...      0        1          0\n",
              "14998         0.370       0.520                   2  ...      0        1          0\n",
              "\n",
              "[14999 rows x 20 columns]"
            ]
          },
          "metadata": {
            "tags": []
          },
          "execution_count": 9
        }
      ]
    },
    {
      "cell_type": "code",
      "metadata": {
        "id": "q1-acQkbFr8Z",
        "colab_type": "code",
        "colab": {}
      },
      "source": [
        ""
      ],
      "execution_count": 0,
      "outputs": []
    },
    {
      "cell_type": "code",
      "metadata": {
        "id": "uFwtY0eiFr-4",
        "colab_type": "code",
        "outputId": "74aed342-4f41-4d16-b80b-3487c3bcdbff",
        "colab": {
          "base_uri": "https://localhost:8080/",
          "height": 337
        }
      },
      "source": [
        "from sklearn.preprocessing import StandardScaler\n",
        "scaler = StandardScaler()\n",
        "X_scaled = scaler.fit_transform(turnover)"
      ],
      "execution_count": 0,
      "outputs": [
        {
          "output_type": "error",
          "ename": "ValueError",
          "evalue": "ignored",
          "traceback": [
            "\u001b[0;31m---------------------------------------------------------------------------\u001b[0m",
            "\u001b[0;31mValueError\u001b[0m                                Traceback (most recent call last)",
            "\u001b[0;32m<ipython-input-10-dabed76defa0>\u001b[0m in \u001b[0;36m<module>\u001b[0;34m()\u001b[0m\n\u001b[1;32m      1\u001b[0m \u001b[0;32mfrom\u001b[0m \u001b[0msklearn\u001b[0m\u001b[0;34m.\u001b[0m\u001b[0mpreprocessing\u001b[0m \u001b[0;32mimport\u001b[0m \u001b[0mStandardScaler\u001b[0m\u001b[0;34m\u001b[0m\u001b[0;34m\u001b[0m\u001b[0m\n\u001b[1;32m      2\u001b[0m \u001b[0mscaler\u001b[0m \u001b[0;34m=\u001b[0m \u001b[0mStandardScaler\u001b[0m\u001b[0;34m(\u001b[0m\u001b[0;34m)\u001b[0m\u001b[0;34m\u001b[0m\u001b[0;34m\u001b[0m\u001b[0m\n\u001b[0;32m----> 3\u001b[0;31m \u001b[0mX_scaled\u001b[0m \u001b[0;34m=\u001b[0m \u001b[0mscaler\u001b[0m\u001b[0;34m.\u001b[0m\u001b[0mfit_transform\u001b[0m\u001b[0;34m(\u001b[0m\u001b[0mturnover\u001b[0m\u001b[0;34m)\u001b[0m\u001b[0;34m\u001b[0m\u001b[0;34m\u001b[0m\u001b[0m\n\u001b[0m",
            "\u001b[0;32m/usr/local/lib/python3.6/dist-packages/sklearn/base.py\u001b[0m in \u001b[0;36mfit_transform\u001b[0;34m(self, X, y, **fit_params)\u001b[0m\n\u001b[1;32m    551\u001b[0m         \u001b[0;32mif\u001b[0m \u001b[0my\u001b[0m \u001b[0;32mis\u001b[0m \u001b[0;32mNone\u001b[0m\u001b[0;34m:\u001b[0m\u001b[0;34m\u001b[0m\u001b[0;34m\u001b[0m\u001b[0m\n\u001b[1;32m    552\u001b[0m             \u001b[0;31m# fit method of arity 1 (unsupervised transformation)\u001b[0m\u001b[0;34m\u001b[0m\u001b[0;34m\u001b[0m\u001b[0;34m\u001b[0m\u001b[0m\n\u001b[0;32m--> 553\u001b[0;31m             \u001b[0;32mreturn\u001b[0m \u001b[0mself\u001b[0m\u001b[0;34m.\u001b[0m\u001b[0mfit\u001b[0m\u001b[0;34m(\u001b[0m\u001b[0mX\u001b[0m\u001b[0;34m,\u001b[0m \u001b[0;34m**\u001b[0m\u001b[0mfit_params\u001b[0m\u001b[0;34m)\u001b[0m\u001b[0;34m.\u001b[0m\u001b[0mtransform\u001b[0m\u001b[0;34m(\u001b[0m\u001b[0mX\u001b[0m\u001b[0;34m)\u001b[0m\u001b[0;34m\u001b[0m\u001b[0;34m\u001b[0m\u001b[0m\n\u001b[0m\u001b[1;32m    554\u001b[0m         \u001b[0;32melse\u001b[0m\u001b[0;34m:\u001b[0m\u001b[0;34m\u001b[0m\u001b[0;34m\u001b[0m\u001b[0m\n\u001b[1;32m    555\u001b[0m             \u001b[0;31m# fit method of arity 2 (supervised transformation)\u001b[0m\u001b[0;34m\u001b[0m\u001b[0;34m\u001b[0m\u001b[0;34m\u001b[0m\u001b[0m\n",
            "\u001b[0;32m/usr/local/lib/python3.6/dist-packages/sklearn/preprocessing/data.py\u001b[0m in \u001b[0;36mfit\u001b[0;34m(self, X, y)\u001b[0m\n\u001b[1;32m    637\u001b[0m         \u001b[0;31m# Reset internal state before fitting\u001b[0m\u001b[0;34m\u001b[0m\u001b[0;34m\u001b[0m\u001b[0;34m\u001b[0m\u001b[0m\n\u001b[1;32m    638\u001b[0m         \u001b[0mself\u001b[0m\u001b[0;34m.\u001b[0m\u001b[0m_reset\u001b[0m\u001b[0;34m(\u001b[0m\u001b[0;34m)\u001b[0m\u001b[0;34m\u001b[0m\u001b[0;34m\u001b[0m\u001b[0m\n\u001b[0;32m--> 639\u001b[0;31m         \u001b[0;32mreturn\u001b[0m \u001b[0mself\u001b[0m\u001b[0;34m.\u001b[0m\u001b[0mpartial_fit\u001b[0m\u001b[0;34m(\u001b[0m\u001b[0mX\u001b[0m\u001b[0;34m,\u001b[0m \u001b[0my\u001b[0m\u001b[0;34m)\u001b[0m\u001b[0;34m\u001b[0m\u001b[0;34m\u001b[0m\u001b[0m\n\u001b[0m\u001b[1;32m    640\u001b[0m \u001b[0;34m\u001b[0m\u001b[0m\n\u001b[1;32m    641\u001b[0m     \u001b[0;32mdef\u001b[0m \u001b[0mpartial_fit\u001b[0m\u001b[0;34m(\u001b[0m\u001b[0mself\u001b[0m\u001b[0;34m,\u001b[0m \u001b[0mX\u001b[0m\u001b[0;34m,\u001b[0m \u001b[0my\u001b[0m\u001b[0;34m=\u001b[0m\u001b[0;32mNone\u001b[0m\u001b[0;34m)\u001b[0m\u001b[0;34m:\u001b[0m\u001b[0;34m\u001b[0m\u001b[0;34m\u001b[0m\u001b[0m\n",
            "\u001b[0;32m/usr/local/lib/python3.6/dist-packages/sklearn/preprocessing/data.py\u001b[0m in \u001b[0;36mpartial_fit\u001b[0;34m(self, X, y)\u001b[0m\n\u001b[1;32m    661\u001b[0m         X = check_array(X, accept_sparse=('csr', 'csc'), copy=self.copy,\n\u001b[1;32m    662\u001b[0m                         \u001b[0mestimator\u001b[0m\u001b[0;34m=\u001b[0m\u001b[0mself\u001b[0m\u001b[0;34m,\u001b[0m \u001b[0mdtype\u001b[0m\u001b[0;34m=\u001b[0m\u001b[0mFLOAT_DTYPES\u001b[0m\u001b[0;34m,\u001b[0m\u001b[0;34m\u001b[0m\u001b[0;34m\u001b[0m\u001b[0m\n\u001b[0;32m--> 663\u001b[0;31m                         force_all_finite='allow-nan')\n\u001b[0m\u001b[1;32m    664\u001b[0m \u001b[0;34m\u001b[0m\u001b[0m\n\u001b[1;32m    665\u001b[0m         \u001b[0;31m# Even in the case of `with_mean=False`, we update the mean anyway\u001b[0m\u001b[0;34m\u001b[0m\u001b[0;34m\u001b[0m\u001b[0;34m\u001b[0m\u001b[0m\n",
            "\u001b[0;32m/usr/local/lib/python3.6/dist-packages/sklearn/utils/validation.py\u001b[0m in \u001b[0;36mcheck_array\u001b[0;34m(array, accept_sparse, accept_large_sparse, dtype, order, copy, force_all_finite, ensure_2d, allow_nd, ensure_min_samples, ensure_min_features, warn_on_dtype, estimator)\u001b[0m\n\u001b[1;32m    494\u001b[0m             \u001b[0;32mtry\u001b[0m\u001b[0;34m:\u001b[0m\u001b[0;34m\u001b[0m\u001b[0;34m\u001b[0m\u001b[0m\n\u001b[1;32m    495\u001b[0m                 \u001b[0mwarnings\u001b[0m\u001b[0;34m.\u001b[0m\u001b[0msimplefilter\u001b[0m\u001b[0;34m(\u001b[0m\u001b[0;34m'error'\u001b[0m\u001b[0;34m,\u001b[0m \u001b[0mComplexWarning\u001b[0m\u001b[0;34m)\u001b[0m\u001b[0;34m\u001b[0m\u001b[0;34m\u001b[0m\u001b[0m\n\u001b[0;32m--> 496\u001b[0;31m                 \u001b[0marray\u001b[0m \u001b[0;34m=\u001b[0m \u001b[0mnp\u001b[0m\u001b[0;34m.\u001b[0m\u001b[0masarray\u001b[0m\u001b[0;34m(\u001b[0m\u001b[0marray\u001b[0m\u001b[0;34m,\u001b[0m \u001b[0mdtype\u001b[0m\u001b[0;34m=\u001b[0m\u001b[0mdtype\u001b[0m\u001b[0;34m,\u001b[0m \u001b[0morder\u001b[0m\u001b[0;34m=\u001b[0m\u001b[0morder\u001b[0m\u001b[0;34m)\u001b[0m\u001b[0;34m\u001b[0m\u001b[0;34m\u001b[0m\u001b[0m\n\u001b[0m\u001b[1;32m    497\u001b[0m             \u001b[0;32mexcept\u001b[0m \u001b[0mComplexWarning\u001b[0m\u001b[0;34m:\u001b[0m\u001b[0;34m\u001b[0m\u001b[0;34m\u001b[0m\u001b[0m\n\u001b[1;32m    498\u001b[0m                 raise ValueError(\"Complex data not supported\\n\"\n",
            "\u001b[0;32m/usr/local/lib/python3.6/dist-packages/numpy/core/_asarray.py\u001b[0m in \u001b[0;36masarray\u001b[0;34m(a, dtype, order)\u001b[0m\n\u001b[1;32m     83\u001b[0m \u001b[0;34m\u001b[0m\u001b[0m\n\u001b[1;32m     84\u001b[0m     \"\"\"\n\u001b[0;32m---> 85\u001b[0;31m     \u001b[0;32mreturn\u001b[0m \u001b[0marray\u001b[0m\u001b[0;34m(\u001b[0m\u001b[0ma\u001b[0m\u001b[0;34m,\u001b[0m \u001b[0mdtype\u001b[0m\u001b[0;34m,\u001b[0m \u001b[0mcopy\u001b[0m\u001b[0;34m=\u001b[0m\u001b[0;32mFalse\u001b[0m\u001b[0;34m,\u001b[0m \u001b[0morder\u001b[0m\u001b[0;34m=\u001b[0m\u001b[0morder\u001b[0m\u001b[0;34m)\u001b[0m\u001b[0;34m\u001b[0m\u001b[0;34m\u001b[0m\u001b[0m\n\u001b[0m\u001b[1;32m     86\u001b[0m \u001b[0;34m\u001b[0m\u001b[0m\n\u001b[1;32m     87\u001b[0m \u001b[0;34m\u001b[0m\u001b[0m\n",
            "\u001b[0;31mValueError\u001b[0m: could not convert string to float: 'sales'"
          ]
        }
      ]
    },
    {
      "cell_type": "code",
      "metadata": {
        "id": "w8ySBrdhFsBX",
        "colab_type": "code",
        "colab": {}
      },
      "source": [
        "salaries = {'low':1, 'medium':2, 'high':0}"
      ],
      "execution_count": 0,
      "outputs": []
    },
    {
      "cell_type": "code",
      "metadata": {
        "id": "HXwZd1fbFsDx",
        "colab_type": "code",
        "colab": {}
      },
      "source": [
        "turnover = turnover.drop(['department'], axis = 1)"
      ],
      "execution_count": 0,
      "outputs": []
    },
    {
      "cell_type": "code",
      "metadata": {
        "id": "gYbwxSHfFsGj",
        "colab_type": "code",
        "colab": {}
      },
      "source": [
        ""
      ],
      "execution_count": 0,
      "outputs": []
    },
    {
      "cell_type": "code",
      "metadata": {
        "id": "wpgn5ndTFsI9",
        "colab_type": "code",
        "colab": {}
      },
      "source": [
        "#restart here!"
      ],
      "execution_count": 0,
      "outputs": []
    },
    {
      "cell_type": "code",
      "metadata": {
        "id": "F3txs21ZFsLw",
        "colab_type": "code",
        "colab": {}
      },
      "source": [
        "turnover.salary.unique()"
      ],
      "execution_count": 0,
      "outputs": []
    },
    {
      "cell_type": "code",
      "metadata": {
        "id": "6oP9lHDVFsR7",
        "colab_type": "code",
        "colab": {}
      },
      "source": [
        "salary_mapper ={'low':0, 'medium':1, 'high':2}"
      ],
      "execution_count": 0,
      "outputs": []
    },
    {
      "cell_type": "code",
      "metadata": {
        "id": "0BfkNPG-SZ2o",
        "colab_type": "code",
        "colab": {}
      },
      "source": [
        "turnover['salary_recode'] = turnover.salary.map(salary_mapper)"
      ],
      "execution_count": 0,
      "outputs": []
    },
    {
      "cell_type": "code",
      "metadata": {
        "id": "A5qp6zm6SZ_w",
        "colab_type": "code",
        "colab": {}
      },
      "source": [
        "dep_matrix = pd.get_dummies(turnover.department)\n",
        "turnover_all = pd.concat([turnover, dep_matrix], axis = 1)"
      ],
      "execution_count": 0,
      "outputs": []
    },
    {
      "cell_type": "code",
      "metadata": {
        "id": "vsMx0jOLSaCV",
        "colab_type": "code",
        "colab": {}
      },
      "source": [
        "turnover_all.drop(['department', 'churn', 'salary'], axis = 1, inplace = True)"
      ],
      "execution_count": 0,
      "outputs": []
    },
    {
      "cell_type": "code",
      "metadata": {
        "id": "kcFkNGWGSaHD",
        "colab_type": "code",
        "colab": {}
      },
      "source": [
        "from sklearn.preprocessing import StandardScaler\n",
        "scaler = StandardScaler()\n",
        "X_scaled = scaler.fit_transform(turnover_all)"
      ],
      "execution_count": 0,
      "outputs": []
    },
    {
      "cell_type": "code",
      "metadata": {
        "id": "EX_K1hxmSaKO",
        "colab_type": "code",
        "colab": {}
      },
      "source": [
        "from sklearn.decomposition import PCA\n",
        "pca = PCA(n_components = 18)"
      ],
      "execution_count": 0,
      "outputs": []
    },
    {
      "cell_type": "code",
      "metadata": {
        "id": "znHPxL7ISaMa",
        "colab_type": "code",
        "colab": {}
      },
      "source": [
        "X_reduced = pca.fit_transform(X_scaled)"
      ],
      "execution_count": 0,
      "outputs": []
    },
    {
      "cell_type": "code",
      "metadata": {
        "id": "PQmzXKxVSaPF",
        "colab_type": "code",
        "colab": {}
      },
      "source": [
        "plot_data = pd.DataFrame({'evr': pca.explained_variance_ratio_, 'cumsum_evr': np.cumsum(pca.explained_variance_ratio_)}).stack()"
      ],
      "execution_count": 0,
      "outputs": []
    },
    {
      "cell_type": "code",
      "metadata": {
        "id": "eZ13CWRiSaFH",
        "colab_type": "code",
        "colab": {}
      },
      "source": [
        "sns.set(rc={'figure.figsize':(11.7,8.27)})\n",
        "sns.lineplot(y = plot_data.values, x = plot_data.index.get_level_values(0), hue=plot_data.index.get_level_values(1))"
      ],
      "execution_count": 0,
      "outputs": []
    },
    {
      "cell_type": "code",
      "metadata": {
        "id": "PtgK62y6a3nX",
        "colab_type": "code",
        "colab": {}
      },
      "source": [
        "pca.explained_variance_ratio_.sum()"
      ],
      "execution_count": 0,
      "outputs": []
    },
    {
      "cell_type": "code",
      "metadata": {
        "id": "gWydO-pxbAXJ",
        "colab_type": "code",
        "colab": {}
      },
      "source": [
        "pcscores = pd.DataFrame(X_reduced)\n",
        "loadings = pd.DataFrame(pca.components_, columns=turnover_all.columns)\n",
        "loadings.index = ['PC'+str(i+1) for i in range(len(pcscores.columns))]"
      ],
      "execution_count": 0,
      "outputs": []
    },
    {
      "cell_type": "code",
      "metadata": {
        "id": "TAN4RP5sbAaY",
        "colab_type": "code",
        "colab": {}
      },
      "source": [
        "ax = sns.heatmap(loadings.transpose(), center=0, linewidths=0.5, \n",
        "                 cmap=\"bone\", vmin=-1, vmax=1, annot=True)"
      ],
      "execution_count": 0,
      "outputs": []
    },
    {
      "cell_type": "code",
      "metadata": {
        "id": "vKNpUKTSbAft",
        "colab_type": "code",
        "colab": {}
      },
      "source": [
        "# Now we can plot in our points\n",
        "plt.figure(figsize=(12,12))\n",
        "g = sns.scatterplot(X_reduced[:,0], X_reduced[:,1],\n",
        "                    legend='full', palette='viridis')\n",
        "\n",
        "legend = g.get_legend()"
      ],
      "execution_count": 0,
      "outputs": []
    },
    {
      "cell_type": "code",
      "metadata": {
        "id": "oT0Qr4kibAjy",
        "colab_type": "code",
        "colab": {}
      },
      "source": [
        "#Supervised ML\n",
        "#Preprocess the data\n",
        "#Try to predict \"churn\" using a simple model (Logistic Regression)\n",
        "#Try a more advanced model (e.g. Random Forest)\n",
        "#Evaluate your model\n",
        "#Predict \"satisfaction\" (!!! This is a regression model)\n",
        "#Evaluate the regression model"
      ],
      "execution_count": 0,
      "outputs": []
    },
    {
      "cell_type": "code",
      "metadata": {
        "id": "MavIUv-cbAnZ",
        "colab_type": "code",
        "colab": {}
      },
      "source": [
        ""
      ],
      "execution_count": 0,
      "outputs": []
    },
    {
      "cell_type": "code",
      "metadata": {
        "id": "_ZRWkC7Jn7SU",
        "colab_type": "code",
        "colab": {}
      },
      "source": [
        "turnover = pd.read_csv('https://github.com/CALDISS-AAU/sdsphd19_coursematerials/raw/master/data/turnover.csv')\n",
        "salary_mapper ={'low':0, 'medium':1, 'high':2}\n",
        "turnover['salary_recode'] = turnover.salary.map(salary_mapper)\n",
        "dep_matrix = pd.get_dummies(turnover.department)\n",
        "turnover_all = pd.concat([turnover, dep_matrix], axis = 1)\n",
        "turnover_all.drop(['department', 'churn', 'salary'], axis = 1, inplace = True)\n",
        "from sklearn.preprocessing import StandardScaler\n",
        "scaler = StandardScaler()\n",
        "X_scaled = scaler.fit_transform(turnover_all)"
      ],
      "execution_count": 0,
      "outputs": []
    },
    {
      "cell_type": "code",
      "metadata": {
        "id": "JK8-G-5nbAt_",
        "colab_type": "code",
        "colab": {}
      },
      "source": [
        "y = turnover['churn']"
      ],
      "execution_count": 0,
      "outputs": []
    },
    {
      "cell_type": "code",
      "metadata": {
        "id": "bo3iUij8ej6U",
        "colab_type": "code",
        "colab": {}
      },
      "source": [
        "# Select the (independant) features that we are going to use to train the model\n",
        "X = turnover_all"
      ],
      "execution_count": 0,
      "outputs": []
    },
    {
      "cell_type": "code",
      "metadata": {
        "id": "ol9LVokplfv8",
        "colab_type": "code",
        "colab": {}
      },
      "source": [
        "from sklearn.preprocessing import StandardScaler\n",
        "scaler = StandardScaler()\n",
        "X_scaled = scaler.fit_transform(turnover_all)"
      ],
      "execution_count": 0,
      "outputs": []
    },
    {
      "cell_type": "code",
      "metadata": {
        "id": "ThTj8qWslf4w",
        "colab_type": "code",
        "colab": {}
      },
      "source": [
        "from sklearn.decomposition import PCA\n",
        "pca = PCA(n_components = 5)\n"
      ],
      "execution_count": 0,
      "outputs": []
    },
    {
      "cell_type": "code",
      "metadata": {
        "id": "nB1qKo2fej_6",
        "colab_type": "code",
        "colab": {}
      },
      "source": [
        "import altair as alt"
      ],
      "execution_count": 0,
      "outputs": []
    },
    {
      "cell_type": "code",
      "metadata": {
        "id": "sJh3RJKZekCL",
        "colab_type": "code",
        "colab": {}
      },
      "source": [
        "# Import K-fold crossvalidation\n",
        "from sklearn.model_selection import cross_val_score\n",
        "\n",
        "# Import Classification Report for later evaluatoion of performance\n",
        "from sklearn.metrics import classification_report"
      ],
      "execution_count": 0,
      "outputs": []
    },
    {
      "cell_type": "code",
      "metadata": {
        "id": "9JiIm2vbej9e",
        "colab_type": "code",
        "colab": {}
      },
      "source": [
        "# Load and instantiate a LabelEncoder that will turn our text labels (regions into indices)\n",
        "from sklearn.preprocessing import LabelEncoder\n",
        "encoder = LabelEncoder()"
      ],
      "execution_count": 0,
      "outputs": []
    },
    {
      "cell_type": "code",
      "metadata": {
        "id": "ChV0NiwKg-U7",
        "colab_type": "code",
        "colab": {}
      },
      "source": [
        "y_enc = encoder.fit_transform(y)\n",
        "# Load and instantiate a StandardSclaer \n",
        "from sklearn.preprocessing import StandardScaler\n",
        "scaler = StandardScaler()"
      ],
      "execution_count": 0,
      "outputs": []
    },
    {
      "cell_type": "code",
      "metadata": {
        "id": "YyUKm9gVg-YF",
        "colab_type": "code",
        "colab": {}
      },
      "source": [
        "# Apply the scaler to our X-features\n",
        "X_scaled = scaler.fit_transform(X)\n"
      ],
      "execution_count": 0,
      "outputs": []
    },
    {
      "cell_type": "code",
      "metadata": {
        "id": "GPfzg1g8lf9S",
        "colab_type": "code",
        "colab": {}
      },
      "source": [
        "X_reduced = pca.fit_transform(X_scaled)"
      ],
      "execution_count": 0,
      "outputs": []
    },
    {
      "cell_type": "code",
      "metadata": {
        "id": "CXjuF7H43R3j",
        "colab_type": "code",
        "colab": {}
      },
      "source": [
        "from sklearn.model_selection import train_test_split\n",
        "X_train, X_test, y_train, y_test = train_test_split(X_scaled, X_reduced, test_size = 0.2, random_state = 42)"
      ],
      "execution_count": 0,
      "outputs": []
    },
    {
      "cell_type": "code",
      "metadata": {
        "id": "_E1fEhwy3SDp",
        "colab_type": "code",
        "colab": {}
      },
      "source": [
        "# Import modules that we are going to use for all models\n",
        "\n",
        "# Import K-fold crossvalidation\n",
        "from sklearn.model_selection import cross_val_score\n",
        "\n",
        "# Import Classification Report for later evaluatoion of performance\n",
        "from sklearn.metrics import classification_report"
      ],
      "execution_count": 0,
      "outputs": []
    },
    {
      "cell_type": "code",
      "metadata": {
        "id": "5YY6Lu753SAm",
        "colab_type": "code",
        "colab": {}
      },
      "source": [
        "X_test"
      ],
      "execution_count": 0,
      "outputs": []
    },
    {
      "cell_type": "code",
      "metadata": {
        "id": "-Qnc8f6pg-dL",
        "colab_type": "code",
        "colab": {}
      },
      "source": [
        "# Import and instantiate the model\n",
        "from sklearn.linear_model import LogisticRegression\n",
        "model = LogisticRegression()\n",
        "\n",
        "# K-fold cross-validation (splitting the 80% into 5 chunks, using 4 to train and 1 to evaluate)\n",
        "scores = cross_val_score(model, X_train, y_train, cv = 5)\n",
        "print(scores)\n",
        "\n",
        "# Model training\n",
        "model.fit(X_train, y_train)\n",
        "\n",
        "# Model performance on the test-set\n",
        "print(model.score(X_test, y_test))"
      ],
      "execution_count": 0,
      "outputs": []
    },
    {
      "cell_type": "code",
      "metadata": {
        "id": "pkDqFUcjpkua",
        "colab_type": "code",
        "colab": {}
      },
      "source": [
        "#actually, start here:"
      ],
      "execution_count": 0,
      "outputs": []
    },
    {
      "cell_type": "code",
      "metadata": {
        "id": "_oq1wUZ7pk4O",
        "colab_type": "code",
        "colab": {}
      },
      "source": [
        "import pandas as pd\n",
        "turnover = pd.read_csv('https://github.com/CALDISS-AAU/sdsphd19_coursematerials/raw/master/data/turnover.csv')\n",
        "salary_mapper ={'low':0, 'medium':1, 'high':2}\n",
        "turnover['salary_recode'] = turnover.salary.map(salary_mapper)\n",
        "dep_matrix = pd.get_dummies(turnover.department)\n",
        "turnover_all = pd.concat([turnover, dep_matrix], axis = 1)\n",
        "turnover_all.drop(['department', 'churn', 'salary'], axis = 1, inplace = True)"
      ],
      "execution_count": 0,
      "outputs": []
    },
    {
      "cell_type": "code",
      "metadata": {
        "id": "1zRtSACFpk61",
        "colab_type": "code",
        "colab": {}
      },
      "source": [
        "# Select the (independant) features that we are going to use to train the model\n",
        "X = turnover_all.loc[:,'satisfaction':'technical']"
      ],
      "execution_count": 0,
      "outputs": []
    },
    {
      "cell_type": "code",
      "metadata": {
        "id": "zBxcLOZdpk9P",
        "colab_type": "code",
        "colab": {}
      },
      "source": [
        "# Define the dependant variabel / target to predict (world region)\n",
        "y = turnover['churn']"
      ],
      "execution_count": 0,
      "outputs": []
    },
    {
      "cell_type": "code",
      "metadata": {
        "id": "o93nRmyGpk_o",
        "colab_type": "code",
        "colab": {}
      },
      "source": [
        "# Load and instantiate a LabelEncoder that will turn our text labels (regions into indices)\n",
        "from sklearn.preprocessing import LabelEncoder\n",
        "encoder = LabelEncoder()"
      ],
      "execution_count": 0,
      "outputs": []
    },
    {
      "cell_type": "code",
      "metadata": {
        "id": "N5rbvFccplB5",
        "colab_type": "code",
        "colab": {}
      },
      "source": [
        "# Transform labels into indices by passing y to the encoder\n",
        "y_enc = encoder.fit_transform(y)"
      ],
      "execution_count": 0,
      "outputs": []
    },
    {
      "cell_type": "code",
      "metadata": {
        "id": "dzhwKTxypuvx",
        "colab_type": "code",
        "colab": {}
      },
      "source": [
        "# Load and instantiate a StandardSclaer \n",
        "from sklearn.preprocessing import StandardScaler\n",
        "scaler = StandardScaler()"
      ],
      "execution_count": 0,
      "outputs": []
    },
    {
      "cell_type": "code",
      "metadata": {
        "id": "Xl7MCOfvpuyS",
        "colab_type": "code",
        "colab": {}
      },
      "source": [
        "# Apply the scaler to our X-features\n",
        "X_scaled = scaler.fit_transform(X)"
      ],
      "execution_count": 0,
      "outputs": []
    },
    {
      "cell_type": "code",
      "metadata": {
        "id": "CDkcMQZ9pu0n",
        "colab_type": "code",
        "colab": {}
      },
      "source": [
        "# Split the data using the train_test_split module. We keep 20% of the data for testing and use 80% to train the model\n",
        "# Random state defined with an arbitrary number for reproducibility\n",
        "\n",
        "from sklearn.model_selection import train_test_split\n",
        "X_train, X_test, y_train, y_test = train_test_split(X_scaled, y_enc, test_size = 0.2, random_state = 42)"
      ],
      "execution_count": 0,
      "outputs": []
    },
    {
      "cell_type": "code",
      "metadata": {
        "id": "a24e5XoGpu3J",
        "colab_type": "code",
        "colab": {}
      },
      "source": [
        "# Import modules that we are going to use for all models\n",
        "\n",
        "# Import K-fold crossvalidation\n",
        "from sklearn.model_selection import cross_val_score\n",
        "\n",
        "# Import Classification Report for later evaluatoion of performance\n",
        "from sklearn.metrics import classification_report"
      ],
      "execution_count": 0,
      "outputs": []
    },
    {
      "cell_type": "code",
      "metadata": {
        "id": "Hgk4avZppu6B",
        "colab_type": "code",
        "colab": {}
      },
      "source": [
        "# Import and instantiate the model\n",
        "from sklearn.linear_model import LogisticRegression\n",
        "model = LogisticRegression()\n",
        "\n",
        "# K-fold cross-validation (splitting the 80% into 5 chunks, using 4 to train and 1 to evaluate)\n",
        "scores = cross_val_score(model, X_train, y_train, cv = 5)\n",
        "print(scores)\n",
        "\n",
        "# Model training\n",
        "model.fit(X_train, y_train)\n",
        "\n",
        "# Model performance on the test-set\n",
        "print(model.score(X_test, y_test))"
      ],
      "execution_count": 0,
      "outputs": []
    },
    {
      "cell_type": "code",
      "metadata": {
        "id": "_6uONvXkpu8Y",
        "colab_type": "code",
        "colab": {}
      },
      "source": [
        "# random forest"
      ],
      "execution_count": 0,
      "outputs": []
    },
    {
      "cell_type": "code",
      "metadata": {
        "id": "pR5mjPWwpvBA",
        "colab_type": "code",
        "colab": {}
      },
      "source": [
        "from sklearn.ensemble import RandomForestClassifier\n",
        "\n",
        "model = RandomForestClassifier()\n",
        "\n",
        "scores = cross_val_score(model, X_train, y_train, cv = 5)\n",
        "print(scores)\n",
        "\n",
        "model.fit(X_train, y_train)\n",
        "print(model.score(X_test, y_test))"
      ],
      "execution_count": 0,
      "outputs": []
    },
    {
      "cell_type": "code",
      "metadata": {
        "id": "xbnfASgxpvEI",
        "colab_type": "code",
        "colab": {}
      },
      "source": [
        "#predict satisfaction"
      ],
      "execution_count": 0,
      "outputs": []
    },
    {
      "cell_type": "code",
      "metadata": {
        "id": "4hDZ-qX5pu-4",
        "colab_type": "code",
        "colab": {}
      },
      "source": [
        "y = turnover['satisfaction']"
      ],
      "execution_count": 0,
      "outputs": []
    },
    {
      "cell_type": "code",
      "metadata": {
        "id": "fWNCHfeDqYOP",
        "colab_type": "code",
        "colab": {}
      },
      "source": [
        "# Select the (independant) features that we are going to use to train the model\n",
        "X = turnover_all.loc[:,'evaluation':'technical']"
      ],
      "execution_count": 0,
      "outputs": []
    },
    {
      "cell_type": "code",
      "metadata": {
        "id": "oYspppkHqYTc",
        "colab_type": "code",
        "colab": {}
      },
      "source": [
        "# Transform labels into indices by passing y to the encoder\n",
        "y_enc = encoder.fit_transform(y)"
      ],
      "execution_count": 0,
      "outputs": []
    },
    {
      "cell_type": "code",
      "metadata": {
        "id": "Lvr7BU-eqYWB",
        "colab_type": "code",
        "colab": {}
      },
      "source": [
        "# Apply the scaler to our X-features\n",
        "X_scaled = scaler.fit_transform(X)"
      ],
      "execution_count": 0,
      "outputs": []
    },
    {
      "cell_type": "code",
      "metadata": {
        "id": "bTf0qC9bqYgQ",
        "colab_type": "code",
        "colab": {}
      },
      "source": [
        "# Split the data using the train_test_split module. We keep 20% of the data for testing and use 80% to train the model\n",
        "# Random state defined with an arbitrary number for reproducibility\n",
        "\n",
        "from sklearn.model_selection import train_test_split\n",
        "X_train, X_test, y_train, y_test = train_test_split(X_scaled, y_enc, test_size = 0.2, random_state = 42)"
      ],
      "execution_count": 0,
      "outputs": []
    },
    {
      "cell_type": "code",
      "metadata": {
        "id": "YYVao0cvqYll",
        "colab_type": "code",
        "colab": {}
      },
      "source": [
        "# K-fold cross-validation (splitting the 80% into 5 chunks, using 4 to train and 1 to evaluate)\n",
        "scores = cross_val_score(model, X_train, y_train, cv = 5)\n",
        "print(scores)\n",
        "\n",
        "# Model training\n",
        "model.fit(X_train, y_train)\n",
        "\n",
        "# Model performance on the test-set\n",
        "print(model.score(X_test, y_test))"
      ],
      "execution_count": 0,
      "outputs": []
    }
  ]
}